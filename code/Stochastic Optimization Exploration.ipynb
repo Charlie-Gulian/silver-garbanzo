{
 "cells": [
  {
   "cell_type": "code",
   "execution_count": 3,
   "metadata": {},
   "outputs": [],
   "source": [
    "import numpy as np\n",
    "import matplotlib.pyplot as plt\n",
    "import pandas as pd\n",
    "from scipy.stats import *\n",
    "\n",
    "from pyomo.environ import *"
   ]
  },
  {
   "cell_type": "markdown",
   "metadata": {},
   "source": [
    "### Comparing stochastic optimization techniques\n",
    "\n",
    "We wish to compare solutions to scenario-based optimization problems in the context of renewable resource planning.\n",
    "\n",
    "##### Setting: \n",
    "\n",
    "Hourly CF of wind $w$ is random according to some distribution $F_w: [0, 1] \\to [0,1]$. Hourly load $l$ is constant. $F_w$ is not known explicitly but we can draw i.i.d. samples from $F_w$. \n",
    "\n",
    "We wish to select the amount of new wind to build on the system $C$ that minimizes total system cost. We have chosen units such that the levelized fixed cost of investment in new wind build is 1. The variable cost of wind is 0, and the variable cost of existing thermal generation is $k$. Thus whenever load exceeds the amount of available wind generation $C*w_i$, the system variable costs are $k * (l - C*w_i)$.\n",
    "\n",
    "Each random sample $w_i \\sim F_w$ corresponds to a \"scenario\". The corresponding scenario cost for a fixed value of $C$ is $k * \\max \\{0, l - C*w_i \\}$ (k constant). The cost associated with $C$ itself is just $C$.\n",
    "\n",
    "There are three optimization formulations that we will compare:\n",
    "\n",
    "#### 1. Flaw-of-Averages / Naive Expected Value Program\n",
    "\n",
    "$\\min C + k * \\max \\{0, l - C * E[w]\\}$\n",
    "\n",
    "with finite sample approximation\n",
    "\n",
    "$\\min C + k * \\max \\{0, l - C * \\frac{1}{n} \\sum_{i=1}^{n}{w_i}\\}$\n",
    "\n",
    "#### 2. Stochastic Program\n",
    "\n",
    "$\\min C + E[ k * \\max \\{0, l - C * w \\} ]$\n",
    "\n",
    "with finite sample approximation\n",
    "\n",
    "$\\min C + \\frac{1}{n} \\sum_{i=1}^{n}{ k * \\max \\{0, l_i - C*w_i \\}}$ \n",
    "\n",
    "#### 3. Robust Mini-Max Cost Program\n",
    "\n",
    "$\\min C + \\sup \\{ k * \\max \\{0, l - C*w \\} : w \\in support(F_w) \\}$\n",
    "\n",
    "with finite sample approximation\n",
    "\n",
    "$\\min C + \\max \\{ k * \\max \\{0, l_i - C*w_i \\} : i = 1,..., n\\}$\n",
    "\n",
    "#### 4. Robust Mini-Max Regret Program\n",
    "\n",
    "$\\min C + \\sup \\{ regret(C; w) : w \\in support(F_w) \\}$\n",
    "\n",
    "where $regret(C; w) = k * \\max\\{0, l - C*w\\} - k * \\max\\{0, l - C_{opt}(w)*w\\}$ is defined as the difference between $k * \\max\\{0, l - C*w\\}$ and the optimal variable cost in the scenario associated with $w$, denoted $k * \\max\\{0, l - C_{opt}(w)*w\\}$. This has finite sample approximation\n",
    "\n",
    "$\\min C + \\max \\{ regret(C, w_i) : i = 1,..., n\\}$"
   ]
  },
  {
   "cell_type": "markdown",
   "metadata": {},
   "source": [
    "We linearize the term in the objective $\\max \\{0, l - C*w_i\\}$ by replacing it with an auxiliary variable $\\eta_i \\geq 0$ and adding a constraint $\\eta_i \\geq l - C*w_i$."
   ]
  },
  {
   "cell_type": "markdown",
   "metadata": {},
   "source": [
    "### 0. Collecting random sample of $w_i$"
   ]
  },
  {
   "cell_type": "code",
   "execution_count": 77,
   "metadata": {},
   "outputs": [],
   "source": [
    "n = 10 # Number of samples to draw\n",
    "w = 0.6*np.random.rand(n) + 0.2 # Wind CF are uniform(0.2, 0.8)\n",
    "\n",
    "k = 3.5 # Variable cost of existing firm generation\n",
    "l = 100 # MW ; constant level of load"
   ]
  },
  {
   "cell_type": "markdown",
   "metadata": {},
   "source": [
    "### 1. Flaw-of-Averages / Naive Expected Value Program"
   ]
  },
  {
   "cell_type": "code",
   "execution_count": 78,
   "metadata": {},
   "outputs": [
    {
     "name": "stdout",
     "output_type": "stream",
     "text": [
      "Optimal wind build: 197.16 MW\n"
     ]
    },
    {
     "data": {
      "text/plain": [
       "197.164283091559"
      ]
     },
     "execution_count": 78,
     "metadata": {},
     "output_type": "execute_result"
    }
   ],
   "source": [
    "# Construct optimization model\n",
    "\n",
    "def naive_model(w, verbose = False):\n",
    "\n",
    "    # Define sample average of wind CF\n",
    "    w_bar = np.mean(w)\n",
    "\n",
    "    model = ConcreteModel()\n",
    "\n",
    "    # Variables\n",
    "    model.C = Var(domain=NonNegativeReals) # Decision variable for wind build\n",
    "    model.eta_bar = Var(domain=NonNegativeReals) # Auxiliary variable for variable costs\n",
    "\n",
    "    # Parameters\n",
    "    model.k = Param(initialize = k) # Define variable cost of existing firm generation\n",
    "    model.l = Param(initialize = l) # Define constant load level\n",
    "    model.w_bar = Param(initialize = w_bar) # Define sample average of wind CF\n",
    "\n",
    "    # Objective\n",
    "    def objective(m): # Define objective function\n",
    "        return m.C + m.k*m.eta_bar\n",
    "\n",
    "    model.obj = Objective(rule = objective, sense = minimize)\n",
    "\n",
    "    # Constraints\n",
    "    def const(m):\n",
    "        return m.eta_bar >= m.l - m.C*m.w_bar\n",
    "\n",
    "    model.const = Constraint(rule = const)\n",
    "\n",
    "\n",
    "    # Solve model\n",
    "    opt = SolverFactory('glpk')\n",
    "    opt.solve(model)\n",
    "    C_opt = model.C.value\n",
    "    \n",
    "    if verbose:\n",
    "        print('Optimal wind build: {:.2f} MW'.format(C_opt))\n",
    "    \n",
    "    return C_opt\n",
    "    \n",
    "naive_model(w, verbose = True)"
   ]
  },
  {
   "cell_type": "markdown",
   "metadata": {},
   "source": [
    "#### 1.2 Deterministic Model"
   ]
  },
  {
   "cell_type": "code",
   "execution_count": 79,
   "metadata": {},
   "outputs": [
    {
     "name": "stdout",
     "output_type": "stream",
     "text": [
      "Optimal wind build: 150.32 MW\n"
     ]
    },
    {
     "data": {
      "text/plain": [
       "(150.323324114785, 150.323324114785)"
      ]
     },
     "execution_count": 79,
     "metadata": {},
     "output_type": "execute_result"
    }
   ],
   "source": [
    "# Construct optimization model\n",
    "\n",
    "def det_model(w, verbose = False):\n",
    "\n",
    "    if np.iterable(w):\n",
    "        print('Error: non-scalar parameter passed to deterministic model')\n",
    "        return\n",
    "\n",
    "    model = ConcreteModel()\n",
    "\n",
    "    # Variables\n",
    "    model.C = Var(domain=NonNegativeReals) # Decision variable for wind build\n",
    "    model.eta = Var(domain=NonNegativeReals) # Auxiliary variable for variable costs\n",
    "\n",
    "    # Parameters\n",
    "    model.k = Param(initialize = k) # Define variable cost of existing firm generation\n",
    "    model.l = Param(initialize = l) # Define constant load level\n",
    "    model.w = Param(initialize = w) # Define sample average of wind CF\n",
    "\n",
    "    # Objective\n",
    "    def objective(m): # Define objective function\n",
    "        return m.C + m.k*m.eta\n",
    "\n",
    "    model.obj = Objective(rule = objective, sense = minimize)\n",
    "\n",
    "    # Constraints\n",
    "    def const(m):\n",
    "        return m.eta >= m.l - m.C*m.w\n",
    "\n",
    "    model.const = Constraint(rule = const)\n",
    "\n",
    "    # Solve model\n",
    "    opt = SolverFactory('glpk')\n",
    "    opt.solve(model)\n",
    "    C_opt = model.C.value\n",
    "    OOFV = objective(model)()\n",
    "    \n",
    "    if verbose:\n",
    "        print('Optimal wind build: {:.2f} MW'.format(C_opt))\n",
    "    \n",
    "    return C_opt, OOFV\n",
    "    \n",
    "det_model(w[0], verbose = True)\n",
    "\n",
    "#for wi in np.linspace(0.0, 1.0, 101):\n",
    "#    print('{:.2f}'.format(wi), det_model(wi)[0], det_model(wi)[1])"
   ]
  },
  {
   "cell_type": "markdown",
   "metadata": {},
   "source": [
    "### 2. Stochastic Program"
   ]
  },
  {
   "cell_type": "code",
   "execution_count": 80,
   "metadata": {},
   "outputs": [
    {
     "name": "stdout",
     "output_type": "stream",
     "text": [
      "Optimal wind build: 150.32 MW\n"
     ]
    },
    {
     "data": {
      "text/plain": [
       "150.323324114785"
      ]
     },
     "execution_count": 80,
     "metadata": {},
     "output_type": "execute_result"
    }
   ],
   "source": [
    "def stochastic_model(w, verbose = False):\n",
    "    \n",
    "    # Construct optimization model\n",
    "    model = ConcreteModel()\n",
    "\n",
    "    # Sets\n",
    "    model.samples = RangeSet(n) # Set to define samples\n",
    "\n",
    "    # Variables\n",
    "    model.C = Var(domain=NonNegativeReals) # Decision variable for wind build\n",
    "    model.eta = Var(model.samples, domain=NonNegativeReals) # Auxiliary variables for scenario costs\n",
    "\n",
    "    # Parameters\n",
    "    model.k = Param(initialize = k) # Define variable cost of existing firm generation\n",
    "    model.l = Param(initialize = l) # Define constant load level\n",
    "    model.n = Param(initialize = n) # Define number of samples\n",
    "    model.w = Param(model.samples, initialize = {i+1: w[i] for i in range(n)}) # Define sample average of wind CF\n",
    "\n",
    "    # Objective\n",
    "    def objective(m): # Define objective function\n",
    "        return m.C + m.k*(1.0/m.n)*sum(m.eta[s] for s in model.samples)\n",
    "\n",
    "    model.obj = Objective(rule = objective, sense = minimize)\n",
    "\n",
    "    # Constraints\n",
    "    def const(m, s):\n",
    "        return m.eta[s] >= m.l - m.C*m.w[s]\n",
    "\n",
    "    model.const = Constraint(model.samples, rule = const)\n",
    "\n",
    "\n",
    "    # Solve model\n",
    "    opt = SolverFactory('glpk')\n",
    "    opt.solve(model)\n",
    "    C_opt = model.C.value\n",
    "    \n",
    "    if verbose:\n",
    "        print('Optimal wind build: {:.2f} MW'.format(C_opt))\n",
    "    \n",
    "    return C_opt\n",
    "    \n",
    "stochastic_model(w, verbose = True)"
   ]
  },
  {
   "cell_type": "markdown",
   "metadata": {},
   "source": [
    "### 3. Robust Mini-Max Cost Program"
   ]
  },
  {
   "cell_type": "code",
   "execution_count": 81,
   "metadata": {},
   "outputs": [
    {
     "name": "stdout",
     "output_type": "stream",
     "text": [
      "Optimal wind build: 0.00 MW\n"
     ]
    },
    {
     "data": {
      "text/plain": [
       "0.0"
      ]
     },
     "execution_count": 81,
     "metadata": {},
     "output_type": "execute_result"
    }
   ],
   "source": [
    "def robust_model(w, verbose = False):\n",
    "\n",
    "    # Construct optimization model\n",
    "    model = ConcreteModel()\n",
    "\n",
    "    # Sets\n",
    "    model.samples = RangeSet(n) # Set to define samples\n",
    "\n",
    "    # Variables\n",
    "    model.C = Var(domain=NonNegativeReals) # Decision variable for wind build\n",
    "    model.eta = Var(model.samples, domain=NonNegativeReals) # Auxiliary variables for scenario costs\n",
    "    model.zeta = Var(domain = NonNegativeReals) # Auxiliary variable for maximum of scenario costs\n",
    "\n",
    "    # Parameters\n",
    "    model.k = Param(initialize = k) # Define variable cost of existing firm generation\n",
    "    model.l = Param(initialize = l) # Define constant load level\n",
    "    model.n = Param(initialize = n) # Define number of samples\n",
    "    model.w = Param(model.samples, initialize = {i+1: w[i] for i in range(n)}) # Define sample average of wind CF\n",
    "\n",
    "    # Objective\n",
    "    def objective(m): # Define objective function\n",
    "        return m.C + m.k*m.zeta\n",
    "\n",
    "    model.obj = Objective(rule = objective, sense = minimize)\n",
    "\n",
    "    # Constraints\n",
    "    def const(m, s):\n",
    "        return m.eta[s] >= m.l - m.C*m.w[s]\n",
    "\n",
    "    model.const = Constraint(model.samples, rule = const)\n",
    "\n",
    "    def aux_const(m, s):\n",
    "        return m.zeta >= m.eta[s]\n",
    "\n",
    "    model.aux_const = Constraint(model.samples, rule = aux_const)\n",
    "\n",
    "\n",
    "    # Solve model\n",
    "    opt = SolverFactory('glpk')\n",
    "    opt.solve(model)\n",
    "    C_opt = model.C.value\n",
    "    \n",
    "    if verbose:\n",
    "        print('Optimal wind build: {:.2f} MW'.format(C_opt))\n",
    "    \n",
    "    return C_opt\n",
    "\n",
    "robust_model(w, verbose = True)"
   ]
  },
  {
   "cell_type": "markdown",
   "metadata": {},
   "source": [
    "### 4. Robust Mini-Max Regret Program"
   ]
  },
  {
   "cell_type": "code",
   "execution_count": 82,
   "metadata": {},
   "outputs": [
    {
     "name": "stdout",
     "output_type": "stream",
     "text": [
      "Optimal wind build: 346.19 MW\n"
     ]
    },
    {
     "data": {
      "text/plain": [
       "346.188575788131"
      ]
     },
     "execution_count": 82,
     "metadata": {},
     "output_type": "execute_result"
    }
   ],
   "source": [
    "def regret_model(w, verbose = False):\n",
    "\n",
    "    # Get deterministic scenario costs\n",
    "    C_opts = np.zeros(len(w))\n",
    "    for i, wi in enumerate(w):\n",
    "        C_opts[i] = det_model(wi)[0]\n",
    "    \n",
    "    # Construct optimization model\n",
    "    model = ConcreteModel()\n",
    "\n",
    "    # Sets\n",
    "    model.samples = RangeSet(n) # Set to define samples\n",
    "\n",
    "    # Variables\n",
    "    model.C = Var(domain=NonNegativeReals) # Decision variable for wind build\n",
    "    model.eta = Var(model.samples, domain=NonNegativeReals) # Auxiliary variables for scenario costs\n",
    "    model.zeta = Var(domain = NonNegativeReals) # Auxiliary variable for maximum of scenario costs\n",
    "\n",
    "    # Parameters\n",
    "    model.k = Param(initialize = k) # Define variable cost of existing firm generation\n",
    "    model.l = Param(initialize = l) # Define constant load level\n",
    "    model.n = Param(initialize = n) # Define number of samples\n",
    "    model.w = Param(model.samples, initialize = {i+1: w[i] for i in range(n)}) # Define sample average of wind CF\n",
    "    model.C_opts = Param(model.samples, initialize = {i+1: C_opts[i] for i in range(n)}) # Define scenario solutions\n",
    "    \n",
    "    # Objective\n",
    "    def objective(m): # Define objective function\n",
    "        return m.C + m.k*m.zeta\n",
    "\n",
    "    model.obj = Objective(rule = objective, sense = minimize)\n",
    "\n",
    "    # Constraints\n",
    "    def const(m, s):\n",
    "        return m.eta[s] >= (m.l - m.C*m.w[s]) - (m.l - m.C_opts[s]*m.w[s]) # Regret\n",
    "\n",
    "    model.const = Constraint(model.samples, rule = const)\n",
    "\n",
    "    def aux_const(m, s):\n",
    "        return m.zeta >= m.eta[s]\n",
    "\n",
    "    model.aux_const = Constraint(model.samples, rule = aux_const)\n",
    "\n",
    "\n",
    "    # Solve model\n",
    "    opt = SolverFactory('glpk')\n",
    "    opt.solve(model)\n",
    "    C_opt = model.C.value\n",
    "    \n",
    "    if verbose:\n",
    "        print('Optimal wind build: {:.2f} MW'.format(C_opt))\n",
    "    \n",
    "    return C_opt\n",
    "\n",
    "regret_model(w, verbose = True)"
   ]
  },
  {
   "cell_type": "code",
   "execution_count": 83,
   "metadata": {},
   "outputs": [],
   "source": [
    "M = 500 # Number of trials to run\n",
    "\n",
    "naive_arr = np.zeros(M)\n",
    "stochastic_arr = np.zeros(M)\n",
    "robust_arr = np.zeros(M)\n",
    "regret_arr = np.zeros(M)\n",
    "\n",
    "for m in range(M):\n",
    "    \n",
    "    # Define random vector of wind CFs\n",
    "    w = 0.6*np.random.rand(n) + 0.2 # Wind CF are uniform(0.2, 0.8)\n",
    "    \n",
    "    # Run models\n",
    "    naive_arr[m] = naive_model(w)\n",
    "    stochastic_arr[m] = stochastic_model(w)\n",
    "    robust_arr[m] = robust_model(w)\n",
    "    regret_arr[m] = regret_model(w)"
   ]
  },
  {
   "cell_type": "code",
   "execution_count": 88,
   "metadata": {},
   "outputs": [
    {
     "data": {
      "image/png": "[encoded data removed]",
      "text/plain": [
       "<Figure size 432x288 with 1 Axes>"
      ]
     },
     "metadata": {
      "needs_background": "light"
     },
     "output_type": "display_data"
    }
   ],
   "source": [
    "plt.hist(naive_arr, bins = np.linspace(0, 400, 25), alpha = 0.5, label = 'Naive')\n",
    "plt.hist(stochastic_arr, bins = np.linspace(0, 400, 25), alpha = 0.5, label = 'Stochastic')\n",
    "plt.hist(robust_arr, bins = np.linspace(0, 400, 25), alpha = 0.5, label = 'Robust')\n",
    "plt.hist(regret_arr, bins = np.linspace(0, 400, 25), alpha = 0.5, label = 'Regret')\n",
    "\n",
    "plt.legend()\n",
    "plt.xlabel('Selected Wind Build (MW)')\n",
    "plt.show()"
   ]
  },
  {
   "cell_type": "code",
   "execution_count": 102,
   "metadata": {},
   "outputs": [],
   "source": [
    "def OOS_variable_costs(C):\n",
    "    S = 100\n",
    "    np.random.seed(4)\n",
    "    w_oos = np.random.rand(S)\n",
    "    costs_oos = k*np.max(np.array([np.zeros(S), l - C*w_oos]), axis = 0)\n",
    "    return costs_oos"
   ]
  },
  {
   "cell_type": "code",
   "execution_count": 104,
   "metadata": {},
   "outputs": [],
   "source": [
    "naive_costs = np.zeros(M)\n",
    "stochastic_costs = np.zeros(M)\n",
    "robust_costs = np.zeros(M)\n",
    "regret_costs = np.zeros(M)\n",
    "\n",
    "for m in range(M):\n",
    "    \n",
    "    naive_costs[m] = np.mean(OOS_variable_costs(naive_arr[m]))\n",
    "    stochastic_costs[m] = np.mean(OOS_variable_costs(stochastic_arr[m]))\n",
    "    robust_costs[m] = np.mean(OOS_variable_costs(robust_arr[m]))\n",
    "    regret_costs[m] = np.mean(OOS_variable_costs(regret_arr[m]))"
   ]
  },
  {
   "cell_type": "code",
   "execution_count": 106,
   "metadata": {},
   "outputs": [
    {
     "data": {
      "image/png": "[encoded data removed]",
      "text/plain": [
       "<Figure size 432x288 with 1 Axes>"
      ]
     },
     "metadata": {
      "needs_background": "light"
     },
     "output_type": "display_data"
    }
   ],
   "source": [
    "plt.hist(naive_costs, bins = np.linspace(0, 400, 25), alpha = 0.5, label = 'Naive')\n",
    "plt.hist(stochastic_costs, bins = np.linspace(0, 400, 25), alpha = 0.5, label = 'Stochastic')\n",
    "plt.hist(robust_costs, bins = np.linspace(0, 400, 25), alpha = 0.5, label = 'Robust')\n",
    "plt.hist(regret_costs, bins = np.linspace(0, 400, 25), alpha = 0.5, label = 'Regret')\n",
    "\n",
    "plt.legend()\n",
    "plt.xlabel('Out-of-Sample Variable Costs')\n",
    "plt.show()"
   ]
  },
  {
   "cell_type": "code",
   "execution_count": null,
   "metadata": {},
   "outputs": [],
   "source": []
  }
 ],
 "metadata": {
  "kernelspec": {
   "display_name": "Python 3",
   "language": "python",
   "name": "python3"
  },
  "language_info": {
   "codemirror_mode": {
    "name": "ipython",
    "version": 3
   },
   "file_extension": ".py",
   "mimetype": "text/x-python",
   "name": "python",
   "nbconvert_exporter": "python",
   "pygments_lexer": "ipython3",
   "version": "3.8.5"
  }
 },
 "nbformat": 4,
 "nbformat_minor": 4
}
