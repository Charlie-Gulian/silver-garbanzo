{
 "cells": [
  {
   "cell_type": "code",
   "execution_count": 9,
   "metadata": {},
   "outputs": [],
   "source": [
    "import numpy as np\n",
    "import matplotlib.pyplot as plt\n",
    "import pandas as pd\n",
    "from scipy.stats import *\n",
    "\n",
    "from pyomo.environ import *"
   ]
  },
  {
   "cell_type": "markdown",
   "metadata": {},
   "source": [
    "### Comparing stochastic optimization techniques\n",
    "\n",
    "We wish to compare solutions to scenario-based optimization problems in the context of renewable resource planning.\n",
    "\n",
    "##### Setting: \n",
    "\n",
    "Hourly CF of wind $w$ is random according to some distribution $F_w: [0, 1] \\to [0,1]$. Hourly load $l$ is constant. $F_w$ is not known explicitly but we can draw i.i.d. samples from $F_w$. \n",
    "\n",
    "We wish to select the amount of new wind to build on the system $C$ that minimizes total system cost. We have chosen units such that the levelized fixed cost of investment in new wind build is 1. The variable cost of wind is 0, and the variable cost of existing thermal generation is $k$. Thus whenever load exceeds the amount of available wind generation $C*w_i$, the system variable costs are $k * (l - C*w_i)$.\n",
    "\n",
    "Each random sample $w_i \\sim F_w$ corresponds to a \"scenario\". The corresponding scenario cost for a fixed value of $C$ is $k * \\max \\{0, l - C*w_i \\}$ (k constant). The cost associated with $C$ itself is just $C$.\n",
    "\n",
    "There are three optimization formulations that we will compare:\n",
    "\n",
    "#### 1. Flaw-of-Averages / Naive Expected Value Program\n",
    "\n",
    "$\\min C + k * \\max \\{0, l - C * E[w]\\}$\n",
    "\n",
    "with finite sample approximation\n",
    "\n",
    "$\\min C + k * \\max \\{0, l - C * \\frac{1}{n} \\sum_{i=1}^{n}{w_i}\\}$\n",
    "\n",
    "#### 2. Stochastic Program\n",
    "\n",
    "$\\min C + E[ k * \\max \\{0, l - C * w \\} ]$\n",
    "\n",
    "with finite sample approximation\n",
    "\n",
    "$\\min C + \\frac{1}{n} \\sum_{i=1}^{n}{ k * \\max \\{0, l_i - C*w_i \\}}$ \n",
    "\n",
    "#### 3. Robust Mini-Max Program\n",
    "\n",
    "$\\min C + \\sup \\{ k * \\max \\{0, l - C*w \\} : w \\in support(F_w) \\}$\n",
    "\n",
    "with finite sample approximation\n",
    "\n",
    "$\\min C + \\max \\{ k * \\max \\{0, l_i - C*w_i \\} : i = 1,..., n\\}$"
   ]
  },
  {
   "cell_type": "markdown",
   "metadata": {},
   "source": [
    "We linearize the term in the objective $\\max \\{0, l - C*w_i\\}$ by replacing it with an auxiliary variable $\\eta_i \\geq 0$ and adding a constraint $\\eta_i \\geq l - C*w_i$."
   ]
  },
  {
   "cell_type": "markdown",
   "metadata": {},
   "source": [
    "### 0. Collecting random sample of $w_i$"
   ]
  },
  {
   "cell_type": "code",
   "execution_count": 126,
   "metadata": {},
   "outputs": [],
   "source": [
    "n = 10 # Number of samples to draw\n",
    "w = 0.8*np.random.rand(n) + 0.2 # Wind CF are uniform(0.2, 0.8)\n",
    "\n",
    "k = 5 # Variable cost of existing firm generation\n",
    "l = 100 # MW ; constant level of load"
   ]
  },
  {
   "cell_type": "markdown",
   "metadata": {},
   "source": [
    "### 1. Flaw-of-Averages / Naive Expected Value Program"
   ]
  },
  {
   "cell_type": "code",
   "execution_count": 127,
   "metadata": {},
   "outputs": [],
   "source": [
    "# Define sample average of wind CF\n",
    "w_bar = np.mean(w)"
   ]
  },
  {
   "cell_type": "code",
   "execution_count": 128,
   "metadata": {},
   "outputs": [
    {
     "name": "stdout",
     "output_type": "stream",
     "text": [
      "Optimal wind build: 173.51 MW\n"
     ]
    }
   ],
   "source": [
    "# Construct optimization model\n",
    "\n",
    "model = ConcreteModel()\n",
    "\n",
    "# Variables\n",
    "model.C = Var(domain=NonNegativeReals) # Decision variable for wind build\n",
    "model.eta_bar = Var(domain=NonNegativeReals) # Auxiliary variable for variable costs\n",
    "\n",
    "# Parameters\n",
    "model.k = Param(initialize = k) # Define variable cost of existing firm generation\n",
    "model.l = Param(initialize = l) # Define constant load level\n",
    "model.w_bar = Param(initialize = w_bar) # Define sample average of wind CF\n",
    "\n",
    "# Objective\n",
    "def objective(m): # Define objective function\n",
    "    return m.C + m.k*m.eta_bar\n",
    "\n",
    "model.obj = Objective(rule = objective, sense = minimize)\n",
    "\n",
    "# Constraints\n",
    "def const(m):\n",
    "    return m.eta_bar >= m.l - m.C*m.w_bar\n",
    "\n",
    "model.const = Constraint(rule = const)\n",
    "\n",
    "\n",
    "# Solve model\n",
    "opt = SolverFactory('glpk')\n",
    "opt.solve(model)\n",
    "\n",
    "# Print out solution\n",
    "C_opt = model.C.value\n",
    "print('Optimal wind build: {:.2f} MW'.format(C_opt))"
   ]
  },
  {
   "cell_type": "markdown",
   "metadata": {},
   "source": [
    "### 2. Stochastic Program"
   ]
  },
  {
   "cell_type": "code",
   "execution_count": 129,
   "metadata": {},
   "outputs": [
    {
     "name": "stdout",
     "output_type": "stream",
     "text": [
      "Optimal wind build: 208.27 MW\n"
     ]
    }
   ],
   "source": [
    "# Construct optimization model\n",
    "\n",
    "model = ConcreteModel()\n",
    "\n",
    "# Sets\n",
    "model.samples = RangeSet(n) # Set to define samples\n",
    "\n",
    "# Variables\n",
    "model.C = Var(domain=NonNegativeReals) # Decision variable for wind build\n",
    "model.eta = Var(model.samples, domain=NonNegativeReals) # Auxiliary variables for scenario costs\n",
    "\n",
    "# Parameters\n",
    "model.k = Param(initialize = k) # Define variable cost of existing firm generation\n",
    "model.l = Param(initialize = l) # Define constant load level\n",
    "model.n = Param(initialize = n) # Define number of samples\n",
    "model.w = Param(model.samples, initialize = {i+1: w[i] for i in range(n)}) # Define sample average of wind CF\n",
    "\n",
    "# Objective\n",
    "def objective(m): # Define objective function\n",
    "    return m.C + m.k*(1.0/m.n)*sum(m.eta[s] for s in model.samples)\n",
    "\n",
    "model.obj = Objective(rule = objective, sense = minimize)\n",
    "\n",
    "# Constraints\n",
    "def const(m, s):\n",
    "    return m.eta[s] >= m.l - m.C*m.w[s]\n",
    "\n",
    "model.const = Constraint(model.samples, rule = const)\n",
    "\n",
    "\n",
    "# Solve model\n",
    "opt = SolverFactory('glpk')\n",
    "opt.solve(model)\n",
    "\n",
    "# Print out solution\n",
    "C_opt = model.C.value\n",
    "print('Optimal wind build: {:.2f} MW'.format(C_opt))"
   ]
  },
  {
   "cell_type": "markdown",
   "metadata": {},
   "source": [
    "### 3. Robust Mini-Max Program"
   ]
  },
  {
   "cell_type": "code",
   "execution_count": 130,
   "metadata": {},
   "outputs": [
    {
     "name": "stdout",
     "output_type": "stream",
     "text": [
      "Optimal wind build: 349.88 MW\n"
     ]
    }
   ],
   "source": [
    "# Construct optimization model\n",
    "\n",
    "model = ConcreteModel()\n",
    "\n",
    "# Sets\n",
    "model.samples = RangeSet(n) # Set to define samples\n",
    "\n",
    "# Variables\n",
    "model.C = Var(domain=NonNegativeReals) # Decision variable for wind build\n",
    "model.eta = Var(model.samples, domain=NonNegativeReals) # Auxiliary variables for scenario costs\n",
    "model.zeta = Var(domain = NonNegativeReals) # Auxiliary variable for maximum of scenario costs\n",
    "\n",
    "# Parameters\n",
    "model.k = Param(initialize = k) # Define variable cost of existing firm generation\n",
    "model.l = Param(initialize = l) # Define constant load level\n",
    "model.n = Param(initialize = n) # Define number of samples\n",
    "model.w = Param(model.samples, initialize = {i+1: w[i] for i in range(n)}) # Define sample average of wind CF\n",
    "\n",
    "# Objective\n",
    "def objective(m): # Define objective function\n",
    "    return m.C + m.k*m.zeta\n",
    "\n",
    "model.obj = Objective(rule = objective, sense = minimize)\n",
    "\n",
    "# Constraints\n",
    "def const(m, s):\n",
    "    return m.eta[s] >= m.l - m.C*m.w[s]\n",
    "\n",
    "model.const = Constraint(model.samples, rule = const)\n",
    "\n",
    "def aux_const(m, s):\n",
    "    return m.zeta >= m.eta[s]\n",
    "\n",
    "model.aux_const = Constraint(model.samples, rule = aux_const)\n",
    "\n",
    "\n",
    "# Solve model\n",
    "opt = SolverFactory('glpk')\n",
    "opt.solve(model)\n",
    "\n",
    "# Print out solution\n",
    "C_opt = model.C.value\n",
    "print('Optimal wind build: {:.2f} MW'.format(C_opt))"
   ]
  }
 ],
 "metadata": {
  "kernelspec": {
   "display_name": "Python 3",
   "language": "python",
   "name": "python3"
  },
  "language_info": {
   "codemirror_mode": {
    "name": "ipython",
    "version": 3
   },
   "file_extension": ".py",
   "mimetype": "text/x-python",
   "name": "python",
   "nbconvert_exporter": "python",
   "pygments_lexer": "ipython3",
   "version": "3.8.5"
  }
 },
 "nbformat": 4,
 "nbformat_minor": 4
}
