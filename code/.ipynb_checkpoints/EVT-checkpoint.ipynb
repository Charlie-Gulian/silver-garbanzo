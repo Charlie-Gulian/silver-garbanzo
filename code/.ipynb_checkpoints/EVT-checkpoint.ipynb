{
 "cells": [
  {
   "cell_type": "code",
   "execution_count": 78,
   "metadata": {},
   "outputs": [],
   "source": [
    "import numpy as np\n",
    "import matplotlib.pyplot as plt\n",
    "from scipy.stats import *"
   ]
  },
  {
   "cell_type": "markdown",
   "metadata": {},
   "source": [
    "### Annual Maxima Series (AMS) example"
   ]
  },
  {
   "cell_type": "code",
   "execution_count": 79,
   "metadata": {},
   "outputs": [],
   "source": [
    "x = lognorm.rvs(0.49, size=int(1e7))"
   ]
  },
  {
   "cell_type": "code",
   "execution_count": 80,
   "metadata": {},
   "outputs": [
    {
     "data": {
      "image/png": "[encoded data removed]",
      "text/plain": [
       "<Figure size 432x288 with 1 Axes>"
      ]
     },
     "metadata": {
      "needs_background": "light"
     },
     "output_type": "display_data"
    }
   ],
   "source": [
    "plt.hist(x, bins = 400, density = True)\n",
    "plt.show()"
   ]
  },
  {
   "cell_type": "code",
   "execution_count": 81,
   "metadata": {},
   "outputs": [],
   "source": [
    "n=10000\n",
    "k = int(4000)\n",
    "x = np.zeros(n*k)\n",
    "max_arr = np.zeros(n)\n",
    "for i in range(n):\n",
    "    sample = lognorm.rvs(0.49, size = k)\n",
    "    x[i*k:(i+1)*k] = sample\n",
    "    max_arr[i] = np.max(sample)"
   ]
  },
  {
   "cell_type": "code",
   "execution_count": 82,
   "metadata": {},
   "outputs": [
    {
     "name": "stdout",
     "output_type": "stream",
     "text": [
      "Average of x: 1.127560958371855\n",
      "Average of max(x1, ..., x4000): 5.951666171803753\n"
     ]
    },
    {
     "data": {
      "image/png": "[encoded data removed]",
      "text/plain": [
       "<Figure size 432x288 with 1 Axes>"
      ]
     },
     "metadata": {
      "needs_background": "light"
     },
     "output_type": "display_data"
    }
   ],
   "source": [
    "g = plt.hist(x, bins = 200, density = True, label = 'F')\n",
    "plt.hist(max_arr, bins = g[1], density = True, label = 'F^{}'.format(k))\n",
    "print('Average of x: {}\\nAverage of max(x1, ..., x{}): {}'.format(np.mean(x), k, np.mean(max_arr)))\n",
    "plt.legend()\n",
    "plt.show()"
   ]
  },
  {
   "cell_type": "markdown",
   "metadata": {},
   "source": [
    "### Peak-Over-Threshold (POT) analysis of net load\n",
    "\n",
    "Let $Z \\sim F_Z$ be system net load (load minus total available generation for randomly sampled system conditions).\n",
    "\n",
    "We are interested in system conditions when $Z > 0$, which occur with very low probability (0.02%). Typical reliability standards are around LOLP of 2.4 hrs/year, indicating that $Pr(Z > 0) \\approx 0.00027$. It isn't obvious whether 0 is a suitable threshold for POT analysis for net load data, but in theory these data should follow generalized Pareto distribution.\n",
    "\n",
    "Can we use EVT to improve our estimates of tail probabilities? $\\bar{F}(z) = Pr(Z > z) = Pr(Z > u)Pr(Z > z | Z > u) = \\bar{F}(u)(1 + \\xi \\frac{z-u}{\\sigma})^{-1/\\xi}$ for $z \\geq u$."
   ]
  },
  {
   "cell_type": "code",
   "execution_count": 154,
   "metadata": {},
   "outputs": [
    {
     "name": "stdout",
     "output_type": "stream",
     "text": [
      "This is 70.21 years of data\n"
     ]
    },
    {
     "data": {
      "image/png": "[encoded data removed]",
      "text/plain": [
       "<Figure size 432x288 with 1 Axes>"
      ]
     },
     "metadata": {
      "needs_background": "light"
     },
     "output_type": "display_data"
    }
   ],
   "source": [
    "p_star = 2.4/8760 # Target LOLP\n",
    "s = 0.53 # Parameter for log-normal distribution\n",
    "\n",
    "n = int(6.15e5) \n",
    "print('This is {:.2f} years of data'.format(n/8760))\n",
    "\n",
    "# Generate log-normal data\n",
    "\n",
    "x = lognorm.rvs(s, size=n)\n",
    "z = x - lognorm.ppf(1 - p_star, s)\n",
    "\n",
    "g = plt.hist(z, bins = 200, density = True, label = 'F')\n",
    "plt.xlabel('Net Load (MW)')\n",
    "plt.show()"
   ]
  },
  {
   "cell_type": "code",
   "execution_count": 155,
   "metadata": {},
   "outputs": [
    {
     "name": "stdout",
     "output_type": "stream",
     "text": [
      "p*: 0.000273972602739726\n",
      "p*^: 0.00024390243902439024\n",
      "Error: 10.975609756097555%\n"
     ]
    }
   ],
   "source": [
    "# Estimate LOLP directly from this data\n",
    "\n",
    "p_star_hat = np.sum(z > 0)/n\n",
    "print('p*: {}\\np*^: {}'.format(p_star, p_star_hat))\n",
    "print('Error: {}%'.format(100*(p_star - p_star_hat)/p_star))"
   ]
  },
  {
   "cell_type": "code",
   "execution_count": 156,
   "metadata": {},
   "outputs": [
    {
     "name": "stdout",
     "output_type": "stream",
     "text": [
      "p_u: 0.007499999999999951\n",
      "p_u^: 0.007626016260162602\n",
      "Error: -1.6802168021686856%\n"
     ]
    }
   ],
   "source": [
    "# Choose u and estimate Pr(Z > u) (p_u)\n",
    "\n",
    "u = lognorm.ppf(1 - 0.0075, s) - lognorm.ppf(1 - p_star, s) # Choose u\n",
    "\n",
    "p_u = 1 - lognorm.cdf(lognorm.ppf(1 - p_star, s) + u, s)\n",
    "p_u_hat = np.sum(z > u)/n\n",
    "print('p_u: {}\\np_u^: {}'.format(p_u, p_u_hat))\n",
    "print('Error: {}%'.format(100*(p_u - p_u_hat)/p_u))"
   ]
  },
  {
   "cell_type": "code",
   "execution_count": 158,
   "metadata": {},
   "outputs": [
    {
     "name": "stdout",
     "output_type": "stream",
     "text": [
      "p*: 0.000273972602739726\n",
      "p*^_EVT: 0.00025238656267278576\n",
      "Error: 7.878904624433193%\n"
     ]
    }
   ],
   "source": [
    "# Fitting xi, beta in generalized Pareto distribution to the tail z > u\n",
    "\n",
    "# Fitting generalized Pareto distribution to the tail z > u\n",
    "xi, _, sigma = genpareto.fit(z[z > u], floc = u)\n",
    "\n",
    "def GPD(z, u, xi, sigma):\n",
    "    return (1 + xi*((z - u)/sigma))**(-1/xi)\n",
    "\n",
    "# Estimating p\n",
    "p_star_hat_EVT = p_u_hat*GPD(0, u, xi, sigma)\n",
    "\n",
    "print('p*: {}\\np*^_EVT: {}'.format(p_star, p_star_hat_EVT))\n",
    "print('Error: {}%'.format(100*(p_star - p_star_hat_EVT)/p_star))"
   ]
  },
  {
   "cell_type": "code",
   "execution_count": 157,
   "metadata": {},
   "outputs": [
    {
     "data": {
      "image/png": "[encoded data removed]",
      "text/plain": [
       "<Figure size 432x288 with 1 Axes>"
      ]
     },
     "metadata": {
      "needs_background": "light"
     },
     "output_type": "display_data"
    }
   ],
   "source": [
    "# Observe tail of distribution\n",
    "g = plt.hist(z[z > u], bins = 30, density = True, label = 'z > {:.0f}'.format(u))\n",
    "plt.hist(z[z > 0], bins = g[1], alpha = 0.5, density = True, label = 'z > 0')\n",
    "plt.legend()\n",
    "plt.show()"
   ]
  },
  {
   "cell_type": "code",
   "execution_count": 183,
   "metadata": {},
   "outputs": [
    {
     "name": "stdout",
     "output_type": "stream",
     "text": [
      "Using 70.21 years of simulated data\n"
     ]
    }
   ],
   "source": [
    "s = 0.53 # Parameter for log-normal distribution\n",
    "\n",
    "p_star = 2.4/8760 # Target LOLP\n",
    "loc = lognorm.ppf(1 - p_star, s) # 1 - p_star quantile\n",
    "\n",
    "\n",
    "n = int(6.15e5) \n",
    "print('Using {:.2f} years of simulated data'.format(n/8760))\n",
    "\n",
    "M = 500 # Number of trials\n",
    "\n",
    "p_hat_arr = np.zeros(M)\n",
    "p_hat_EVT_arr = np.zeros(M)\n",
    "\n",
    "for i in range(M):\n",
    "    \n",
    "    x = lognorm.rvs(s, size=n) # Generate log-normal data\n",
    "    z = x - loc # Shift so that Pr(Z > 0) = p* (target LOLP)\n",
    "    \n",
    "    p_star_hat = np.sum(z > 0)/n # Direct estimate of LOLP from data\n",
    "    \n",
    "    u = lognorm.ppf(1 - 0.01, s) - lognorm.ppf(1 - p_star, s) # Choose u\n",
    "    p_u_hat = np.sum(z > u)/n # Estimate Pr(Z > u)\n",
    "    xi, _, sigma = genpareto.fit(z[z > u], floc = u) # Fit xi, sigma to tail\n",
    "    \n",
    "    p_star_hat_EVT = p_u_hat*GPD(0, u, xi, sigma) # Estimate LOLP using EVT\n",
    "    \n",
    "    p_hat_arr[i] = p_star_hat\n",
    "    p_hat_EVT_arr[i] = p_star_hat_EVT\n",
    "    "
   ]
  },
  {
   "cell_type": "code",
   "execution_count": 184,
   "metadata": {},
   "outputs": [
    {
     "data": {
      "image/png": "[encoded data removed]",
      "text/plain": [
       "<Figure size 432x288 with 1 Axes>"
      ]
     },
     "metadata": {
      "needs_background": "light"
     },
     "output_type": "display_data"
    },
    {
     "name": "stdout",
     "output_type": "stream",
     "text": [
      "MAPE of Direct Method: 6.20%\n",
      "MAPE of EVT Method: 5.039141%\n"
     ]
    }
   ],
   "source": [
    "g = plt.hist(p_hat_arr, bins = 30, label = 'Direct', density = True)\n",
    "plt.hist(p_hat_EVT_arr, bins = g[1], alpha = 0.7, label = 'EVT', density = True)\n",
    "\n",
    "plt.plot([p_star, p_star], [0, 5*max(g[0])], 'k', label = 'True LOLP')\n",
    "plt.axis([None, None, 0, 1.5*max(g[0])])\n",
    "plt.legend()\n",
    "plt.xlabel('Estimate of LOLP')\n",
    "plt.show()\n",
    "\n",
    "print('MAPE of Direct Method: {:.2f}%'.format(100* np.mean(np.abs(p_hat_arr - p_star)/p_star)))\n",
    "print('MAPE of EVT Method: {:2f}%'.format(100* np.mean(np.abs(p_hat_EVT_arr - p_star)/p_star)))"
   ]
  },
  {
   "cell_type": "code",
   "execution_count": 253,
   "metadata": {},
   "outputs": [
    {
     "name": "stdout",
     "output_type": "stream",
     "text": [
      "Using 70.21 years of simulated data\n"
     ]
    }
   ],
   "source": [
    "# EUE Estimation\n",
    "\n",
    "s = 0.53 # Parameter for log-normal distribution\n",
    "\n",
    "p_star = 2.4/8760 # Target LOLP\n",
    "loc = lognorm.ppf(1 - p_star, s)\n",
    "\n",
    "n = int(6.15e5) \n",
    "print('Using {:.2f} years of simulated data'.format(n/8760))\n",
    "\n",
    "M = 500 # Number of trials\n",
    "\n",
    "EUE_star = lognorm.expect(args = (s,), loc = -loc, lb = 0, conditional = True)\n",
    "EUE_arr = np.zeros(M)\n",
    "EUE_EVT_arr = np.zeros(M)\n",
    "\n",
    "for i in range(M):\n",
    "    \n",
    "    x = lognorm.rvs(s, size=n) # Generate log-normal data\n",
    "    z = x - loc # Shift so that Pr(Z > 0) = p* (target LOLP)\n",
    "    \n",
    "    EUE_hat = np.mean(z[z > 0]) # Direct estimate of EUE from data\n",
    "    \n",
    "    u = lognorm.ppf(1 - 0.01, s) - lognorm.ppf(1 - p_star, s) # Choose u\n",
    "    xi, _, sigma = genpareto.fit(z[z > u], floc = u) # Fit xi, sigma to tail\n",
    "    EUE_hat_EVT = genpareto.expect(args = (xi,), loc = u, scale = sigma, lb = 0, conditional = True) # Estimate EUE with GPD\n",
    "    \n",
    "    EUE_arr[i] = EUE_hat\n",
    "    EUE_EVT_arr[i] = EUE_hat_EVT\n",
    "    "
   ]
  },
  {
   "cell_type": "code",
   "execution_count": 255,
   "metadata": {},
   "outputs": [
    {
     "data": {
      "image/png": "[encoded data removed]",
      "text/plain": [
       "<Figure size 432x288 with 1 Axes>"
      ]
     },
     "metadata": {
      "needs_background": "light"
     },
     "output_type": "display_data"
    },
    {
     "name": "stdout",
     "output_type": "stream",
     "text": [
      "MAPE of Direct Method: 6.20%\n",
      "MAPE of EVT Method: 5.039141%\n"
     ]
    }
   ],
   "source": [
    "g = plt.hist(EUE_arr, bins = 30, label = 'Direct', density = True)\n",
    "plt.hist(EUE_EVT_arr, bins = g[1], alpha = 0.7, label = 'EVT', density = True)\n",
    "\n",
    "plt.plot([EUE_star, EUE_star], [0, 5*max(g[0])], 'k', label = 'True EUE')\n",
    "plt.axis([None, None, 0, 1.5*max(g[0])])\n",
    "plt.legend()\n",
    "plt.xlabel('Estimate of EUE')\n",
    "plt.show()\n",
    "\n",
    "print('MAPE of Direct Method: {:.2f}%'.format(100* np.mean(np.abs(p_hat_arr - p_star)/p_star)))\n",
    "print('MAPE of EVT Method: {:2f}%'.format(100* np.mean(np.abs(p_hat_EVT_arr - p_star)/p_star)))\n",
    "\n"
   ]
  },
  {
   "cell_type": "code",
   "execution_count": null,
   "metadata": {},
   "outputs": [],
   "source": []
  }
 ],
 "metadata": {
  "kernelspec": {
   "display_name": "Python 3",
   "language": "python",
   "name": "python3"
  },
  "language_info": {
   "codemirror_mode": {
    "name": "ipython",
    "version": 3
   },
   "file_extension": ".py",
   "mimetype": "text/x-python",
   "name": "python",
   "nbconvert_exporter": "python",
   "pygments_lexer": "ipython3",
   "version": "3.8.5"
  }
 },
 "nbformat": 4,
 "nbformat_minor": 4
}
